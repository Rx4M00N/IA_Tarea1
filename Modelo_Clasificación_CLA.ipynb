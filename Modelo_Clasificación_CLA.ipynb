{
  "cells": [
    {
      "cell_type": "markdown",
      "metadata": {
        "id": "view-in-github",
        "colab_type": "text"
      },
      "source": [
        "<a href=\"https://colab.research.google.com/github/Rx4M00N/IA_Tarea1/blob/main/Modelo_Clasificaci%C3%B3n_CLA.ipynb\" target=\"_parent\"><img src=\"https://colab.research.google.com/assets/colab-badge.svg\" alt=\"Open In Colab\"/></a>"
      ]
    },
    {
      "cell_type": "markdown",
      "metadata": {
        "id": "oeKDu1FXgHCi"
      },
      "source": [
        "# Implementación Modelo CLA\n",
        "Clasificación de muestras de leche según su calidad.\n",
        "\n",
        "Elaborado por: Joshua Corvera y Ricardo Luna.\n",
        "\n",
        "MT-8008 Inteligencia Artificial, grupo 1, II Semestre 2022."
      ]
    },
    {
      "cell_type": "markdown",
      "source": [
        "## Importación de librerías"
      ],
      "metadata": {
        "id": "io_G8QDZ6pjn"
      }
    },
    {
      "cell_type": "code",
      "execution_count": null,
      "metadata": {
        "id": "gFPvV7wR2ATO"
      },
      "outputs": [],
      "source": [
        "#Importación de liberías\n",
        "from tensorflow import keras\n",
        "import pandas as pd\n",
        "import matplotlib.pyplot as plt\n",
        "import numpy as np\n",
        "from mlxtend.plotting import plot_confusion_matrix\n",
        "from sklearn.metrics import confusion_matrix"
      ]
    },
    {
      "cell_type": "markdown",
      "source": [
        "## Carga de datos a partir de archivo .csv"
      ],
      "metadata": {
        "id": "JwQ172hXxl00"
      }
    },
    {
      "cell_type": "code",
      "execution_count": null,
      "metadata": {
        "colab": {
          "base_uri": "https://localhost:8080/"
        },
        "id": "R0Cu4EMYZNec",
        "outputId": "a3c995f0-5439-4e2d-a34f-0c75f3995c6a"
      },
      "outputs": [
        {
          "output_type": "stream",
          "name": "stdout",
          "text": [
            "       pH  Temprature  Taste  Odor  Fat   Turbidity  Colour   Grade\n",
            "0     6.6          35      1     0     1          0     254    high\n",
            "1     6.6          36      0     1     0          1     253    high\n",
            "2     8.5          70      1     1     1          1     246     low\n",
            "3     9.5          34      1     1     0          1     255     low\n",
            "4     6.6          37      0     0     0          0     255  medium\n",
            "...   ...         ...    ...   ...   ...        ...     ...     ...\n",
            "1054  6.7          45      1     1     0          0     247  medium\n",
            "1055  6.7          38      1     0     1          0     255    high\n",
            "1056  3.0          40      1     1     1          1     255     low\n",
            "1057  6.8          43      1     0     1          0     250    high\n",
            "1058  8.6          55      0     1     1          1     255     low\n",
            "\n",
            "[1059 rows x 8 columns]\n"
          ]
        }
      ],
      "source": [
        "#Se cargan los datos a partir del archivo .csv\n",
        "datos_leche = pd.read_csv('milknew.csv', header=0)\n",
        "#Se buscan y eliminan datos nulos\n",
        "datos_leche = datos_leche.dropna()\n",
        "#Imprime los datos cargados\n",
        "print(datos_leche)"
      ]
    },
    {
      "cell_type": "markdown",
      "source": [
        "##Formato de los datos y separación en subconjuntos"
      ],
      "metadata": {
        "id": "HBYOW8YExtz-"
      }
    },
    {
      "cell_type": "code",
      "execution_count": null,
      "metadata": {
        "id": "yxo11MM1Hzpy"
      },
      "outputs": [],
      "source": [
        "#Como el grado de la leche presenta valores categóricos, se sustituyen por\n",
        "#valores numéricos:\n",
        "#low = 0; medium = 1; high = 2\n",
        "datos_leche['NGrade']=[\n",
        "    0 if val == 'low' else 1 if val == 'medium' else 2 for val in datos_leche['Grade']\n",
        "]\n",
        "#Se elimina la columna con los valores en texto, a favor de los datos numéricos\n",
        "datos_leche.drop('Grade',axis=1,inplace=True)"
      ]
    },
    {
      "cell_type": "code",
      "execution_count": null,
      "metadata": {
        "colab": {
          "base_uri": "https://localhost:8080/"
        },
        "id": "5odJu3AVegJb",
        "outputId": "6e12c775-f210-4c6f-a244-d3db60ef5b59"
      },
      "outputs": [
        {
          "output_type": "stream",
          "name": "stdout",
          "text": [
            "Ejemplos usados para entrenar:  843\n",
            "Ejemplos usados para test:  216\n"
          ]
        },
        {
          "output_type": "stream",
          "name": "stderr",
          "text": [
            "/usr/local/lib/python3.7/dist-packages/ipykernel_launcher.py:10: FutureWarning: In a future version of pandas all arguments of DataFrame.drop except for the argument 'labels' will be keyword-only\n",
            "  # Remove the CWD from sys.path while we load stuff.\n"
          ]
        }
      ],
      "source": [
        "# =============== Dar formato a los datos de entrenamiento ===============\n",
        "#Se define un 80% de los datos para realizar el entrenamiento\n",
        "#Esto deja un 20% de datos para las pruebas\n",
        "p_train = 0.80\n",
        "#Se seleccionan datos al azar, mediante la asignación temporal de flags\n",
        "datos_leche['is_train'] = np.random.uniform(0, 1, len(datos_leche)) <= p_train\n",
        "#Se usan los flags para separar los datos en conjuntos de train y test\n",
        "train, test = datos_leche[datos_leche['is_train']==True], datos_leche[datos_leche['is_train']==False]\n",
        "#Se eliminan los flags usados\n",
        "datos_leche = datos_leche.drop('is_train', 1)\n",
        "#Se imprimen las cantidades de datos de entrenamiento y de prueba\n",
        "print(\"Ejemplos usados para entrenar: \", len(train))\n",
        "print(\"Ejemplos usados para test: \", len(test))\n",
        "#Se eliminan los flags temporales de los conjuntos de prueba y entrenamiento\n",
        "train.pop('is_train')\n",
        "test.pop('is_train')\n",
        "#En los conjuntos anteriores, se separan las categorías de los datos de entrada\n",
        "train_labels = train.pop('NGrade')\n",
        "train_data = train\n",
        "test_labels = test.pop('NGrade')\n",
        "test_data = test"
      ]
    },
    {
      "cell_type": "markdown",
      "source": [
        "##Normalización de datos"
      ],
      "metadata": {
        "id": "oEwZA_XLx3sF"
      }
    },
    {
      "cell_type": "code",
      "execution_count": null,
      "metadata": {
        "id": "FCUuWmWufvEK"
      },
      "outputs": [],
      "source": [
        "# =============== Ajustar el valor de los datos ===============\n",
        "#Para que los datos sean interpretados de forma correcta por cada neurona, se\n",
        "#utiliza un escalador, que se encarga de normalizarlos en cada subconjunto\n",
        "from sklearn.preprocessing import StandardScaler\n",
        "scaler = StandardScaler()\n",
        "train_data = scaler.fit_transform(train_data)\n",
        "test_data = scaler.fit_transform(test_data)"
      ]
    },
    {
      "cell_type": "markdown",
      "source": [
        "##Creación del modelo"
      ],
      "metadata": {
        "id": "YIqlQKoUyHBE"
      }
    },
    {
      "cell_type": "code",
      "execution_count": null,
      "metadata": {
        "id": "0rh6B7blVrZk"
      },
      "outputs": [],
      "source": [
        "# ================ Creación del modelo ================\n",
        "#Se define el modelo de la red, con sus capas de entrada, ocultas y salidas\n",
        "#El modelo se compone de la siguiente forma:\n",
        "#7 entradas\n",
        "#1 capa oculta (con varias neuronas, cantidad sujeta a cambios)\n",
        "#3 neuronas para las clasificaciones a la salida\n",
        "model = keras.Sequential([keras.layers.Flatten(input_shape=(7,)),\n",
        "                          keras.layers.Dense(16, activation='sigmoid'),\n",
        "                          keras.layers.Dense(3, activation='softmax')])"
      ]
    },
    {
      "cell_type": "markdown",
      "source": [
        "##Definición de optimizador"
      ],
      "metadata": {
        "id": "3B1zG-NzyJg0"
      }
    },
    {
      "cell_type": "code",
      "execution_count": null,
      "metadata": {
        "id": "3441nlPVWo-8"
      },
      "outputs": [],
      "source": [
        "# ================ Optimizador ================\n",
        "#Se realizan pruebas con dos optimizadores: SGD y Adam\n",
        "#Dentro del objeto optimizador es posible definir la tasa de aprendizaje y\n",
        "#el momento por utilizar (para ADAM el valor del momento se denota beta_1)\n",
        "\n",
        "#optimizador = keras.optimizers.SGD(learning_rate=0.1, momentum=0.8)\n",
        "optimizador = keras.optimizers.Adam(learning_rate=0.1,beta_1=0.4)"
      ]
    },
    {
      "cell_type": "markdown",
      "source": [
        "##Compilación del modelo"
      ],
      "metadata": {
        "id": "vPo57VktyNKo"
      }
    },
    {
      "cell_type": "code",
      "execution_count": null,
      "metadata": {
        "id": "fFfP34iOW8Wk"
      },
      "outputs": [],
      "source": [
        "#Se compila el modelo, con el optimizador seleccionado\n",
        "#Además se define la función de pérdida como aquella para trabajar en\n",
        "#clasificación, y se establece que se medirá la precisión de los datos\n",
        "model.compile(optimizer=optimizador, \n",
        "              loss='sparse_categorical_crossentropy',\n",
        "              metrics=['accuracy'])"
      ]
    },
    {
      "cell_type": "markdown",
      "source": [
        "##Entrenamiento"
      ],
      "metadata": {
        "id": "eoCmzgdzyPel"
      }
    },
    {
      "cell_type": "code",
      "execution_count": null,
      "metadata": {
        "colab": {
          "base_uri": "https://localhost:8080/"
        },
        "id": "SqXzTdmybLjj",
        "outputId": "7456f551-865c-4f47-cfc4-b3c2366c8098"
      },
      "outputs": [
        {
          "output_type": "stream",
          "name": "stdout",
          "text": [
            "Realizando entrenamiento...\n",
            "Fin del entrenamiento\n"
          ]
        }
      ],
      "source": [
        "# ================ Entrenamiento ================\n",
        "#Se define la cantidad de iteraciones para el entrenamiento de la red\n",
        "iteration = 1000\n",
        "#Asimismo, se calcula la cantidad y frecuencia de las validaciones, según las\n",
        "#iteraciones realizadas\n",
        "CantVal = int(iteration * 0.1)\n",
        "freqVal = int(iteration / CantVal)\n",
        "#Luego, se inicia el entrenamiento de la red, lo cual se indica en pantalla\n",
        "print(\"Realizando entrenamiento...\")\n",
        "#Al usar model.fit, primero se ingresan los datos de entrenamiento, y sus\n",
        "#respectivas clasificaciones\n",
        "#Después se establece el número de iteraciones (epochs), el porcentaje de datos\n",
        "#usado para validación (20%) y la frecuencia calculada para cada validación\n",
        "#Por último, si se establece \"verbose\" como 1 se pueden observar los valores de\n",
        "#pérdida y precisión por cada iteración. Para suprimir esta salida de texto, se\n",
        "#establece \"verbose=0\"\n",
        "training = model.fit(train_data, train_labels.to_numpy(), epochs=iteration,\n",
        "                     validation_split=0.2,\n",
        "                     validation_freq=freqVal, verbose=0)\n",
        "#Se indica el final del entrenamiento\n",
        "print(\"Fin del entrenamiento\")"
      ]
    },
    {
      "cell_type": "markdown",
      "source": [
        "##Gráficas de pérdida y precisión"
      ],
      "metadata": {
        "id": "zbzWV8aOyR27"
      }
    },
    {
      "cell_type": "code",
      "execution_count": null,
      "metadata": {
        "colab": {
          "base_uri": "https://localhost:8080/",
          "height": 297
        },
        "id": "dRiAiRVAfOkk",
        "outputId": "41e5e9e4-c4ad-4cb1-d329-a6f813a893a3"
      },
      "outputs": [
        {
          "output_type": "display_data",
          "data": {
            "text/plain": [
              "<Figure size 648x288 with 2 Axes>"
            ],
            "image/png": "[encoded data removed]"
          },
          "metadata": {
            "needs_background": "light"
          }
        }
      ],
      "source": [
        "# ================ Gráficas de pérdida y precisión ================\n",
        "#Luego del entrenamiento, se obtienen los datos de pérdida para el entrenamiento\n",
        "#y la validación, así como los datos de precisión\n",
        "loss = training.history['loss']\n",
        "val_loss = training.history['val_loss']\n",
        "acc = training.history['accuracy']\n",
        "val_acc = training.history['val_accuracy']\n",
        "#Se crean arrays para definir los ejes horizontales de las pérdidas anteriores\n",
        "#en la gráfica\n",
        "x_loss = []\n",
        "x_acc = []\n",
        "x_val = []\n",
        "x_valacc = []\n",
        "#Se agregan los valores a cada eje x del entrenamiento, que corresponden a cada\n",
        "#iteración\n",
        "for i in range(iteration):\n",
        "  x_loss.append(i + 1)\n",
        "  x_acc.append(i + 1)\n",
        "#Se agregan los valores a cada eje x de validación, de acuerdo con la frecuencia \n",
        "#de validación definida anteriormente\n",
        "for i in range(CantVal):\n",
        "  x_val.append((i + 1) * freqVal)\n",
        "  x_valacc.append((i + 1) * freqVal)\n",
        "#Para graficar de mejor forma los resultados, se usa un subplot con 2 espacios\n",
        "fig, axs = plt.subplots(nrows=1, ncols=2, figsize=(9, 4))\n",
        "#Se configuran los nombres de cada eje en las gráficas\n",
        "axs[0].set_xlabel(\"Iteración\")\n",
        "axs[0].set_ylabel(\"Error\")\n",
        "axs[1].set_xlabel(\"Iteración\")\n",
        "axs[1].set_ylabel(\"Precisión\")\n",
        "#Se grafican los datos de pérdida para el entrenamiento y la validación\n",
        "axs[0].plot(x_loss, loss, label=\"Pérdida de entrenamiento\")\n",
        "axs[0].plot(x_val, val_loss, label=\"Pérdida de validación\")\n",
        "#Se grafican los datos de precisión para el entrenamiento y la validación\n",
        "axs[1].plot(x_acc, acc, label=\"Precisión de entrenamiento\")\n",
        "axs[1].plot(x_valacc, val_acc, label=\"Precisión de validación\")\n",
        "#Muestra las leyendas para identificar las curvas\n",
        "axs[0].legend()\n",
        "axs[1].legend()\n",
        "#Despliega las gráficas resultantes\n",
        "fig.tight_layout()\n",
        "plt.show()"
      ]
    },
    {
      "cell_type": "markdown",
      "source": [
        "##Evaluación de pruebas (matriz de confusión)"
      ],
      "metadata": {
        "id": "1tYRhaNMyW2l"
      }
    },
    {
      "cell_type": "code",
      "execution_count": null,
      "metadata": {
        "colab": {
          "base_uri": "https://localhost:8080/",
          "height": 442
        },
        "id": "U7C-VjZxjYJS",
        "outputId": "40cab45a-5f8a-47b0-a8d4-7bff14d4bbe1"
      },
      "outputs": [
        {
          "output_type": "display_data",
          "data": {
            "text/plain": [
              "<Figure size 504x504 with 1 Axes>"
            ],
            "image/png": "[encoded data removed]"
          },
          "metadata": {
            "needs_background": "light"
          }
        }
      ],
      "source": [
        "# ================ Matriz de confusión ================\n",
        "#Se realizan las predicciones de los datos de prueba, calculando probabilidades\n",
        "#de que cada dato de entrada corresponda a una clasificación determinada\n",
        "prob_matrix = model.predict(test_data)\n",
        "#Se obtiene el índice con la mayor probabilidad luego de las predicciones\n",
        "pred_labels = np.argmax(prob_matrix, axis=-1)\n",
        "#Se crea la matriz de confusión al comparar el array anterior con test_labels\n",
        "mat = confusion_matrix(pred_labels, test_labels)\n",
        "#Se imprime la matriz de confusión obtenida\n",
        "plot_confusion_matrix(conf_mat=mat, \n",
        "                      figsize=(7, 7), \n",
        "                      show_normed=True,\n",
        "                      cmap=plt.cm.Blues)\n",
        "#Define los nombres de los ejes\n",
        "plt.xlabel(\"Valor predicho\")\n",
        "plt.ylabel(\"Valor real\")\n",
        "#Muestra la matriz en pantalla\n",
        "plt.show()"
      ]
    },
    {
      "cell_type": "markdown",
      "source": [
        "##Reporte de clasificación"
      ],
      "metadata": {
        "id": "OrDE2YI2yecc"
      }
    },
    {
      "cell_type": "code",
      "source": [
        "#Para visualizar mejor la precisión de la red y otras métricas, se usa un\n",
        "#reporte de clasificación\n",
        "from sklearn.metrics import classification_report\n",
        "\n",
        "print('\\nClassification Report\\n')\n",
        "print(classification_report(test_labels, pred_labels, target_names=['low', 'medium', 'high']))"
      ],
      "metadata": {
        "colab": {
          "base_uri": "https://localhost:8080/"
        },
        "id": "KSbpxWDe_dG9",
        "outputId": "09275f6a-76fa-47e2-e656-8194c194e6cd"
      },
      "execution_count": null,
      "outputs": [
        {
          "output_type": "stream",
          "name": "stdout",
          "text": [
            "\n",
            "Classification Report\n",
            "\n",
            "              precision    recall  f1-score   support\n",
            "\n",
            "         low       0.99      0.99      0.99        83\n",
            "      medium       1.00      1.00      1.00        76\n",
            "        high       0.98      0.98      0.98        57\n",
            "\n",
            "    accuracy                           0.99       216\n",
            "   macro avg       0.99      0.99      0.99       216\n",
            "weighted avg       0.99      0.99      0.99       216\n",
            "\n"
          ]
        }
      ]
    },
    {
      "cell_type": "markdown",
      "source": [
        "##Carga de combinaciones adicionales de entrada"
      ],
      "metadata": {
        "id": "CjKTPTuYyjY1"
      }
    },
    {
      "cell_type": "code",
      "source": [
        "# ================ Carga de datos externos ================\n",
        "#Primero se cargan los datos a partir de un nuevo archivo .csv\n",
        "data_milk = pd.read_csv('milknew1.csv', header=0)\n",
        "print(data_milk)\n",
        "#Como estos datos solo incluyen los parámetros de entrada, se procede a su\n",
        "#normalización\n",
        "data_milk = scaler.fit_transform(data_milk)\n",
        "#Luego, se clasifican los datos\n",
        "prob_matrix_1 = model.predict(data_milk)\n",
        "pred_labels_1 = np.argmax(prob_matrix_1, axis=-1)\n",
        "print(\"Grades:\",pred_labels_1)"
      ],
      "metadata": {
        "colab": {
          "base_uri": "https://localhost:8080/"
        },
        "id": "Lv2iQM0b2ot1",
        "outputId": "09b5014a-a30f-4050-b2ea-96c11b7b35d7"
      },
      "execution_count": null,
      "outputs": [
        {
          "output_type": "stream",
          "name": "stdout",
          "text": [
            "    pH  Temprature  Taste  Odor  Fat   Turbidity  Colour\n",
            "0  7.5          68      1     0     1          1     238\n",
            "1  5.1          22      1     1     1          1     208\n",
            "2  8.2          81      0     0     1          1     257\n",
            "Grades: [0 1 0]\n"
          ]
        }
      ]
    },
    {
      "cell_type": "markdown",
      "source": [
        "##Estudio de sensibilidad para los valores de entrada"
      ],
      "metadata": {
        "id": "R7D_Y20XyojQ"
      }
    },
    {
      "cell_type": "code",
      "source": [
        "#Para observar la sensibilidad de cada variable en el resultado final,\n",
        "#se carga de nuevo el csv original, y posteriormente se\n",
        "#variarán los valores de cada dato de la siguiente forma:\n",
        "#valor continuo (pH, temperatura, color): +- 20%, +- 40%\n",
        "#valor discreto (sabor, olor, grasa, turbidez): alternar entre 0 y 1\n",
        "cet_par = pd.read_csv('milknew.csv', header=0)\n",
        "#Se vuelve a cambiar las clasificaciones a valores numéricos\n",
        "cet_par['NGrade']=[\n",
        "    0 if val == 'low' else 1 if val == 'medium' else 2 for val in cet_par['Grade']\n",
        "]\n",
        "cet_par.drop('Grade',axis=1,inplace=True)\n",
        "print(cet_par)\n",
        "#Se separan las clasificaciones del nuevo archivo\n",
        "cp_labels = cet_par.pop('NGrade')\n",
        "cp_data = cet_par"
      ],
      "metadata": {
        "colab": {
          "base_uri": "https://localhost:8080/"
        },
        "id": "GMQILtTyBuxI",
        "outputId": "d39b1f89-0f89-41c7-8936-ca0562c8de21"
      },
      "execution_count": null,
      "outputs": [
        {
          "output_type": "stream",
          "name": "stdout",
          "text": [
            "       pH  Temprature  Taste  Odor  Fat   Turbidity  Colour  NGrade\n",
            "0     6.6          35      1     0     1          0     254       2\n",
            "1     6.6          36      0     1     0          1     253       2\n",
            "2     8.5          70      1     1     1          1     246       0\n",
            "3     9.5          34      1     1     0          1     255       0\n",
            "4     6.6          37      0     0     0          0     255       1\n",
            "...   ...         ...    ...   ...   ...        ...     ...     ...\n",
            "1054  6.7          45      1     1     0          0     247       1\n",
            "1055  6.7          38      1     0     1          0     255       2\n",
            "1056  3.0          40      1     1     1          1     255       0\n",
            "1057  6.8          43      1     0     1          0     250       2\n",
            "1058  8.6          55      0     1     1          1     255       0\n",
            "\n",
            "[1059 rows x 8 columns]\n"
          ]
        }
      ]
    },
    {
      "cell_type": "code",
      "source": [
        "#En este bloque, se realiza la variación deseada a cada parámetro, y luego\n",
        "#se normalizan los datos para poder hacer las predicciones\n",
        "cp_data['Colour'] -= 0.4*(cp_data['Colour'])\n",
        "#cp_data['Colour'] = 255\n",
        "#cp_data['Turbidity'] = 0\n",
        "cp_data = scaler.fit_transform(cp_data)"
      ],
      "metadata": {
        "id": "xA1U1dsD_i40"
      },
      "execution_count": null,
      "outputs": []
    },
    {
      "cell_type": "code",
      "source": [
        "#Nuevamente, se realizan predicciones, y se crea una matriz de confusión para\n",
        "#ver los resultados de la red\n",
        "prob_matrix_cp = model.predict(cp_data)\n",
        "pred_labels_cp = np.argmax(prob_matrix_cp, axis=-1)\n",
        "mat_cp = confusion_matrix(pred_labels_cp, cp_labels)\n",
        "plot_confusion_matrix(conf_mat=mat_cp, \n",
        "                      figsize=(7, 7), \n",
        "                      show_normed=True,\n",
        "                      cmap=plt.cm.Blues)\n",
        "plt.xlabel(\"Valor predicho\")\n",
        "plt.ylabel(\"Valor real\")\n",
        "plt.show()"
      ],
      "metadata": {
        "colab": {
          "base_uri": "https://localhost:8080/",
          "height": 442
        },
        "id": "UuM5xZWVxtHG",
        "outputId": "c15d5105-f529-4ad1-ff53-23430e65254f"
      },
      "execution_count": null,
      "outputs": [
        {
          "output_type": "display_data",
          "data": {
            "text/plain": [
              "<Figure size 504x504 with 1 Axes>"
            ],
            "image/png": "[encoded data removed]"
          },
          "metadata": {
            "needs_background": "light"
          }
        }
      ]
    }
  ],
  "metadata": {
    "colab": {
      "collapsed_sections": [],
      "provenance": [],
      "toc_visible": true,
      "include_colab_link": true
    },
    "kernelspec": {
      "display_name": "Python 3",
      "name": "python3"
    },
    "language_info": {
      "name": "python"
    },
    "accelerator": "GPU"
  },
  "nbformat": 4,
  "nbformat_minor": 0
}