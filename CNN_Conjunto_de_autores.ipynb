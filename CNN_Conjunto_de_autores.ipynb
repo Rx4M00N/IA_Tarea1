{
  "nbformat": 4,
  "nbformat_minor": 0,
  "metadata": {
    "colab": {
      "provenance": [],
      "collapsed_sections": [],
      "mount_file_id": "1tzcAx19ytXVehlbtAMoLneuqGYUo62b-",
      "authorship_tag": "ABX9TyN+q8Qj0JeelY6+NcMaO2Ey",
      "include_colab_link": true
    },
    "kernelspec": {
      "name": "python3",
      "display_name": "Python 3"
    },
    "language_info": {
      "name": "python"
    },
    "accelerator": "GPU"
  },
  "cells": [
    {
      "cell_type": "markdown",
      "metadata": {
        "id": "view-in-github",
        "colab_type": "text"
      },
      "source": [
        "<a href=\"https://colab.research.google.com/github/Rx4M00N/IA_Tarea1/blob/main/CNN_Conjunto_de_autores.ipynb\" target=\"_parent\"><img src=\"https://colab.research.google.com/assets/colab-badge.svg\" alt=\"Open In Colab\"/></a>"
      ]
    },
    {
      "cell_type": "markdown",
      "source": [
        "# Red convolucional CNN con conjuntos dados"
      ],
      "metadata": {
        "id": "p17gMXWfp3FY"
      }
    },
    {
      "cell_type": "markdown",
      "source": [
        "Se comienza llamando a las librerías a usar"
      ],
      "metadata": {
        "id": "FDjq3WkkCfzJ"
      }
    },
    {
      "cell_type": "code",
      "source": [
        "#Importació de las librerías requeridas\n",
        "#Librerías para cálculos, operaciones y gráficas \n",
        "import numpy as np\n",
        "import pandas as pd\n",
        "import seaborn as sns\n",
        "import os\n",
        "import matplotlib.pyplot as plt\n",
        "from matplotlib.image import imread\n",
        "import cv2\n",
        "%matplotlib inline\n",
        "\n",
        "#Librerías para el uso de redes de inteligencia artificial de Tensorflow\n",
        "import tensorflow as tf \n",
        "from tensorflow.keras.preprocessing.image import ImageDataGenerator , load_img ,img_to_array\n",
        "from tensorflow.keras.models import Sequential\n",
        "from tensorflow.keras.layers import Activation, Dropout, Flatten, Dense, Conv2D, MaxPooling2D\n",
        "from tensorflow.keras.callbacks import EarlyStopping\n",
        "from sklearn.metrics import classification_report,confusion_matrix\n",
        "from tensorflow.keras.preprocessing import image \n",
        "import warnings\n",
        "warnings.filterwarnings('ignore')"
      ],
      "metadata": {
        "id": "AN9Tvsxn9CCf"
      },
      "execution_count": null,
      "outputs": []
    },
    {
      "cell_type": "markdown",
      "source": [
        "## Importación de los datos"
      ],
      "metadata": {
        "id": "YizGKbcEClI7"
      }
    },
    {
      "cell_type": "markdown",
      "source": [
        "Se accede a los datos que se encuentran en una carpeta de drive en el siguiente enlace: https://drive.google.com/drive/folders/1GzGk-ubFXignld_Nh3PC0YftqUZuZBEb?usp=sharing \n",
        "\n",
        "Para poder ejecutarlo correctamente es necesario colocar esa carpeta en \"Mi unidad\" de google drive como un acceso directo"
      ],
      "metadata": {
        "id": "toHO9sDSCqsx"
      }
    },
    {
      "cell_type": "code",
      "source": [
        "#Librería para acceder a google drive\n",
        "from google.colab import drive\n",
        "#Se accede a los documentos desde Google Drive\n",
        "drive.mount('/content/gdrive')\n",
        "\n",
        "#Se extraen los archivos del .zip guardado en drive\n",
        "my_data_dir = !unzip gdrive/My\\ Drive/data/casting_data.zip > /dev/null"
      ],
      "metadata": {
        "id": "LOoUcQ1W8IiU",
        "colab": {
          "base_uri": "https://localhost:8080/"
        },
        "outputId": "f64bc88d-d5d8-45f6-ad43-10b06b117a8d"
      },
      "execution_count": null,
      "outputs": [
        {
          "output_type": "stream",
          "name": "stdout",
          "text": [
            "Mounted at /content/gdrive\n"
          ]
        }
      ]
    },
    {
      "cell_type": "code",
      "source": [
        "#Se establece una ruta para la carpeta descomprimida de drive\n",
        "my_data_dir = 'casting_data/'"
      ],
      "metadata": {
        "id": "yA0B9IukC9TU"
      },
      "execution_count": null,
      "outputs": []
    },
    {
      "cell_type": "code",
      "source": [
        "#Se establece la ruta a las carpetas con los datos de entrenamiento y de prueba\n",
        "train_path = my_data_dir + 'train/'\n",
        "test_path = my_data_dir + 'test/'\n",
        "\n",
        "#Creación de 2 parámetros de la red, donde se da la información como el tamaño de pixeles de la imágen\n",
        "image_shape = (300,300,1)\n",
        "batch_size = 32 #Se ajusta en realción a los y el tipo de problema"
      ],
      "metadata": {
        "id": "5AMEtu2e_Mvu"
      },
      "execution_count": null,
      "outputs": []
    },
    {
      "cell_type": "code",
      "source": [
        "#Se muestra la cantidad de piezas etiquetadas como defectuosas y como buenas en el subconjunto de entrenamiento/train\n",
        "print(\"Cantidad de piezas de train buenas ok_front:\",len(os.listdir(train_path+'ok_front')))\n",
        "print(\"Cantidad de piezas de train malas def_front:\",len(os.listdir(train_path+'def_front')))"
      ],
      "metadata": {
        "colab": {
          "base_uri": "https://localhost:8080/"
        },
        "id": "5rgagSvTEPxR",
        "outputId": "0a85dfa1-cf5d-46e0-b9cb-8dfd63347be6"
      },
      "execution_count": null,
      "outputs": [
        {
          "output_type": "stream",
          "name": "stdout",
          "text": [
            "Cantidad de piezas de train buenas ok_front: 2875\n",
            "Cantidad de piezas de train malas def_front: 3758\n"
          ]
        }
      ]
    },
    {
      "cell_type": "code",
      "source": [
        "#Se muestra la cantidad de piezas etiquetadas como defectuosas y como buenas en el subconjunto de prueba/test\n",
        "print(\"Cantidad de piezas de test buenas ok_front:\",len(os.listdir(test_path+'ok_front')))\n",
        "print(\"Cantidad de piezas de test malas def_front:\",len(os.listdir(test_path+'def_front')))"
      ],
      "metadata": {
        "colab": {
          "base_uri": "https://localhost:8080/"
        },
        "id": "W3vGy8cpDzy5",
        "outputId": "a3183b41-d9d4-4c78-fc1c-aa3f8f1b7b16"
      },
      "execution_count": null,
      "outputs": [
        {
          "output_type": "stream",
          "name": "stdout",
          "text": [
            "Cantidad de piezas de test buenas ok_front: 262\n",
            "Cantidad de piezas de test malas def_front: 453\n"
          ]
        }
      ]
    },
    {
      "cell_type": "code",
      "source": [
        "# Se normaliza la imágen escalando los valores a grises y así tener solo una clase\n",
        "image_gen = ImageDataGenerator(rescale=1/255)"
      ],
      "metadata": {
        "id": "JWc7x7QLD7L0"
      },
      "execution_count": null,
      "outputs": []
    },
    {
      "cell_type": "markdown",
      "source": [
        "## Preparación de los datos"
      ],
      "metadata": {
        "id": "8sfMqaojEHtL"
      }
    },
    {
      "cell_type": "markdown",
      "source": [
        "Se preparan los datos para poder ser utilizados por la red, la forma en la que se va a realizar es por medio de si pertenece o no a cierta categoría, para este conjunto de datos solo se disponen de dos categorías, por lo que se puede evaluar de manera binaria a si pertenece o no a esa categoría. Cade recordar que las imágenes usadas se encuentran en escala de grises y se analizan de n paquetes de 32 antes de realizar un cambio."
      ],
      "metadata": {
        "id": "L4FpOWw0EQlo"
      }
    },
    {
      "cell_type": "code",
      "source": [
        "#Preparación de los datos de entrenamiento\n",
        "train_set = image_gen.flow_from_directory(train_path,\n",
        "                                               target_size=image_shape[:2],\n",
        "                                                color_mode=\"grayscale\",\n",
        "                                               batch_size=batch_size,            #Tamaño de los paquetes que se analizan\n",
        "                                               class_mode='binary',shuffle=True) #Establece que va a ser de manera binaria, asigna 0 a defectuosa y 1 a buena\n",
        "\n",
        "#Preparación de los datos de prueba\n",
        "test_set = image_gen.flow_from_directory(test_path,\n",
        "                                               target_size=image_shape[:2],\n",
        "                                               color_mode=\"grayscale\",\n",
        "                                               batch_size=batch_size,\n",
        "                                               class_mode='binary',shuffle=False)"
      ],
      "metadata": {
        "colab": {
          "base_uri": "https://localhost:8080/"
        },
        "id": "dm5KMz18D3WI",
        "outputId": "0636bf0a-b38d-4d05-e9ed-c6ab4b2fe0cc"
      },
      "execution_count": null,
      "outputs": [
        {
          "output_type": "stream",
          "name": "stdout",
          "text": [
            "Found 6633 images belonging to 2 classes.\n",
            "Found 715 images belonging to 2 classes.\n"
          ]
        }
      ]
    },
    {
      "cell_type": "code",
      "source": [
        "#Se usa para demostrar que las piezas defectuosas son tomadas como 0 y las buenas como 1\n",
        "train_set.class_indices"
      ],
      "metadata": {
        "colab": {
          "base_uri": "https://localhost:8080/"
        },
        "id": "xD21bFxRPRCr",
        "outputId": "09b31057-46e7-44b0-d57d-68b37ee17054"
      },
      "execution_count": null,
      "outputs": [
        {
          "output_type": "execute_result",
          "data": {
            "text/plain": [
              "{'def_front': 0, 'ok_front': 1}"
            ]
          },
          "metadata": {},
          "execution_count": 9
        }
      ]
    },
    {
      "cell_type": "markdown",
      "source": [
        "## Creación del modelo convolucional"
      ],
      "metadata": {
        "id": "Qq9r0yZcIEyV"
      }
    },
    {
      "cell_type": "markdown",
      "source": [
        "Se crea el modelo convolucional donde se definen características como cantidad de filtros, tamaño del kernel por capa, tamaño del pooling y otros hiperparámetros como el stride o el zero padding, en esta sección también se crea la red densa de clasificación que se ubica al final de la CNN.\n",
        "\n",
        "Para su elaboración se hizo de manera secuencial 3 ciclos de convolucional y de pooling y una única capa oculta."
      ],
      "metadata": {
        "id": "yvxKGyJkALUg"
      }
    },
    {
      "cell_type": "code",
      "source": [
        "#Creación del modelo CNN\n",
        "#Se crea una secuencia, la cual es una función de tensorflow\n",
        "model = Sequential()\n",
        "\n",
        "#Primeras capas, una convolucional y otra de pooling para reducir\n",
        "#Se puede cambiar la cantidad de filtros, el tamaño del kernel, el valor del stride (salto), la existencia o no del padding\n",
        "#Se introduce en tamaño de la imagen (300x300) y la función de activación,la cual es una reLu.\n",
        "model.add(Conv2D(filters=8, kernel_size=(3,3), strides=(1, 1), padding=\"valid\", input_shape=image_shape, activation='relu',)) #Ciclo 1, kernel 3x3\n",
        "model.add(MaxPooling2D(pool_size=(2, 2)))\n",
        "\n",
        "#Segunda capa, una convolucional y otra de pooling para reducir\n",
        "model.add(Conv2D(filters=16, kernel_size=(3,3), strides=(1, 1), padding=\"valid\", input_shape=image_shape, activation='relu',)) #Ciclo 2, kernel 3x3\n",
        "model.add(MaxPooling2D(pool_size=(2, 2)))\n",
        "\n",
        "#Tercera capa, una convolucional y otra de pooling para reducir\n",
        "model.add(Conv2D(filters=16, kernel_size=(3,3), strides=(1, 1), padding=\"valid\", input_shape=image_shape, activation='relu',)) #Ciclo 3, kernel 3x3\n",
        "model.add(MaxPooling2D(pool_size=(2, 2)))\n",
        "\n",
        "#Al finalizar el proceso se pasa por una etápa de flattering para acondicionar los datos para la red de clasificación\n",
        "model.add(Flatten())\n",
        "\n",
        "#Comienzo de la red densa de clasificación\n",
        "\n",
        "model.add(Dense(75))              #75 neuronas en una capa\n",
        "model.add(Activation('sigmoid'))   #Función de activación de tipo sigmpoide debido a que es densa\n",
        "#model.add(Dropout(0.5))\n",
        "\n",
        "# Última capa, salida de la red\n",
        "model.add(Dense(1, activation='sigmoid'))  #Se establece una neurona de saldia debido a la elección de categoría binaria\n",
        "\n",
        "model.compile(loss='binary_crossentropy',  #Red densa de clasificación\n",
        "              optimizer='adam',\n",
        "              metrics=['accuracy'])\n",
        "#Early_stop monitorea la pérdida obtenida y si empieza a ver que se estanca detiene el entrenamiento\n",
        "early_stop = EarlyStopping(monitor='loss',patience=2) "
      ],
      "metadata": {
        "id": "c4si9UbHOuot"
      },
      "execution_count": null,
      "outputs": []
    },
    {
      "cell_type": "markdown",
      "source": [
        "Luego de crear el modelo se procede a entrenarlo, para ello se usa el conjunto de datos de entrenamiento y se corre por 20 iteraciones o hasta que el early_stop decida detener el entrenamiento"
      ],
      "metadata": {
        "id": "OJUzF48GAKfp"
      }
    },
    {
      "cell_type": "code",
      "source": [
        "#Entrenamiento de la red CNN\n",
        "results = model.fit_generator(train_set,epochs=20,\n",
        "                              validation_data=test_set,\n",
        "                             callbacks=[early_stop])"
      ],
      "metadata": {
        "colab": {
          "base_uri": "https://localhost:8080/"
        },
        "id": "y7csfA9wPK1_",
        "outputId": "1edaca1a-ca2d-46af-f0cb-b764901eb80b"
      },
      "execution_count": null,
      "outputs": [
        {
          "output_type": "stream",
          "name": "stdout",
          "text": [
            "Epoch 1/20\n",
            "208/208 [==============================] - 17s 77ms/step - loss: 0.5012 - accuracy: 0.7350 - val_loss: 0.2135 - val_accuracy: 0.9441\n",
            "Epoch 2/20\n",
            "208/208 [==============================] - 16s 76ms/step - loss: 0.1805 - accuracy: 0.9376 - val_loss: 0.1153 - val_accuracy: 0.9748\n",
            "Epoch 3/20\n",
            "208/208 [==============================] - 16s 76ms/step - loss: 0.1221 - accuracy: 0.9620 - val_loss: 0.0498 - val_accuracy: 0.9930\n",
            "Epoch 4/20\n",
            "208/208 [==============================] - 17s 81ms/step - loss: 0.0638 - accuracy: 0.9846 - val_loss: 0.0328 - val_accuracy: 0.9944\n",
            "Epoch 5/20\n",
            "208/208 [==============================] - 16s 76ms/step - loss: 0.0511 - accuracy: 0.9864 - val_loss: 0.0306 - val_accuracy: 0.9916\n",
            "Epoch 6/20\n",
            "208/208 [==============================] - 16s 76ms/step - loss: 0.0487 - accuracy: 0.9867 - val_loss: 0.0247 - val_accuracy: 0.9958\n",
            "Epoch 7/20\n",
            "208/208 [==============================] - 16s 76ms/step - loss: 0.0399 - accuracy: 0.9896 - val_loss: 0.0191 - val_accuracy: 0.9972\n",
            "Epoch 8/20\n",
            "208/208 [==============================] - 16s 75ms/step - loss: 0.0320 - accuracy: 0.9928 - val_loss: 0.0208 - val_accuracy: 0.9930\n",
            "Epoch 9/20\n",
            "208/208 [==============================] - 16s 76ms/step - loss: 0.0252 - accuracy: 0.9949 - val_loss: 0.0174 - val_accuracy: 0.9972\n",
            "Epoch 10/20\n",
            "208/208 [==============================] - 16s 77ms/step - loss: 0.0243 - accuracy: 0.9944 - val_loss: 0.0138 - val_accuracy: 0.9972\n",
            "Epoch 11/20\n",
            "208/208 [==============================] - 16s 77ms/step - loss: 0.0245 - accuracy: 0.9944 - val_loss: 0.0105 - val_accuracy: 0.9958\n",
            "Epoch 12/20\n",
            "208/208 [==============================] - 16s 77ms/step - loss: 0.0300 - accuracy: 0.9914 - val_loss: 0.0135 - val_accuracy: 0.9986\n"
          ]
        }
      ]
    },
    {
      "cell_type": "markdown",
      "source": [
        "## Resultados del entrenamiento"
      ],
      "metadata": {
        "id": "t5x9H5XKBOZk"
      }
    },
    {
      "cell_type": "markdown",
      "source": [
        "Se busca graficar con el fin de interpretar de manera más sencilla los resultados del entrenamiento de la red convolucional."
      ],
      "metadata": {
        "id": "OhYaBCWTBiJk"
      }
    },
    {
      "cell_type": "code",
      "source": [
        "#Se grafica la perdida\n",
        "losses = pd.DataFrame(model.history.history)\n",
        "losses[['loss','val_loss']].plot()\n",
        "plt.xlabel('Iteraciones')\n",
        "plt.ylabel('Error')"
      ],
      "metadata": {
        "colab": {
          "base_uri": "https://localhost:8080/",
          "height": 296
        },
        "id": "eqae-WbyP_tX",
        "outputId": "398b588f-08f6-4dd1-a3c3-f3b375ce35cc"
      },
      "execution_count": null,
      "outputs": [
        {
          "output_type": "execute_result",
          "data": {
            "text/plain": [
              "Text(0, 0.5, 'Error')"
            ]
          },
          "metadata": {},
          "execution_count": 48
        },
        {
          "output_type": "display_data",
          "data": {
            "text/plain": [
              "<Figure size 432x288 with 1 Axes>"
            ],
            "image/png": "[encoded data removed]"
          },
          "metadata": {
            "needs_background": "light"
          }
        }
      ]
    },
    {
      "cell_type": "code",
      "source": [
        "#Se grafica la presición obtenida\n",
        "losses[['accuracy','val_accuracy']].plot()\n",
        "plt.xlabel('Iteraciones')\n",
        "plt.ylabel('Error')"
      ],
      "metadata": {
        "colab": {
          "base_uri": "https://localhost:8080/",
          "height": 296
        },
        "id": "mMyG6VaIQEAn",
        "outputId": "7c710b68-c682-465b-8ba7-bb519d56453c"
      },
      "execution_count": null,
      "outputs": [
        {
          "output_type": "execute_result",
          "data": {
            "text/plain": [
              "Text(0, 0.5, 'Error')"
            ]
          },
          "metadata": {},
          "execution_count": 49
        },
        {
          "output_type": "display_data",
          "data": {
            "text/plain": [
              "<Figure size 432x288 with 1 Axes>"
            ],
            "image/png": "[encoded data removed]"
          },
          "metadata": {
            "needs_background": "light"
          }
        }
      ]
    },
    {
      "cell_type": "code",
      "source": [
        "'''\n",
        "Variable que predice la probabilidad de pertener a una categoría\n",
        "Recordando que solo existe una neurona de salida por ser binario\n",
        "por lo que se requiere para establecer un margen\n",
        "'''\n",
        "pred_probability = model.predict_generator(test_set)"
      ],
      "metadata": {
        "id": "mhBCWjyPQRt6"
      },
      "execution_count": null,
      "outputs": []
    },
    {
      "cell_type": "code",
      "source": [
        "#En caso de superar un 0.5, pasa a considerarse un 1 o pieza buena\n",
        "predictions = pred_probability > 0.5"
      ],
      "metadata": {
        "id": "eLxcyNpkQyyC"
      },
      "execution_count": null,
      "outputs": []
    },
    {
      "cell_type": "code",
      "source": [
        "#Se imprimen en pantalla una tabla resumen de los resultado\n",
        "#Se indica la presición que tiene al clasificar el conjunto de test\n",
        "print(classification_report(test_set.classes,predictions))"
      ],
      "metadata": {
        "colab": {
          "base_uri": "https://localhost:8080/"
        },
        "id": "O_K09CeLQ0qQ",
        "outputId": "b6eaaa3f-441c-4ad6-f266-1917eb8f0640"
      },
      "execution_count": null,
      "outputs": [
        {
          "output_type": "stream",
          "name": "stdout",
          "text": [
            "              precision    recall  f1-score   support\n",
            "\n",
            "           0       1.00      1.00      1.00       453\n",
            "           1       1.00      1.00      1.00       262\n",
            "\n",
            "    accuracy                           1.00       715\n",
            "   macro avg       1.00      1.00      1.00       715\n",
            "weighted avg       1.00      1.00      1.00       715\n",
            "\n"
          ]
        }
      ]
    },
    {
      "cell_type": "markdown",
      "source": [
        "Lo último que se realiza es la matriz de confusión, esta será la encargada de verificar el fucnionamiento de la red, para poder conocer que tan bien entrenada está, un resultado negativo sería que la red falle muchos resultados al clasificar, lo que obligaría a volver a entrenarla o modificarla para un mejor reultado"
      ],
      "metadata": {
        "id": "bF3KaJeUC09K"
      }
    },
    {
      "cell_type": "code",
      "source": [
        "#Se grafica la matriz de confusión para evaluar el funcionamiento de la red\n",
        "plt.figure(figsize=(10,6))\n",
        "sns.heatmap(confusion_matrix(test_set.classes,predictions),annot=True)\n",
        "plt.xlabel(\"Reales\")\n",
        "plt.ylabel(\"Predicción\")"
      ],
      "metadata": {
        "colab": {
          "base_uri": "https://localhost:8080/",
          "height": 405
        },
        "id": "-bTMUT_WQ3is",
        "outputId": "5352b365-439a-4ad7-adc8-1d464f3b2e88"
      },
      "execution_count": null,
      "outputs": [
        {
          "output_type": "execute_result",
          "data": {
            "text/plain": [
              "Text(69.0, 0.5, 'Predicción')"
            ]
          },
          "metadata": {},
          "execution_count": 53
        },
        {
          "output_type": "display_data",
          "data": {
            "text/plain": [
              "<Figure size 720x432 with 2 Axes>"
            ],
            "image/png": "[encoded data removed]"
          },
          "metadata": {
            "needs_background": "light"
          }
        }
      ]
    },
    {
      "cell_type": "markdown",
      "source": [
        "Fin del código"
      ],
      "metadata": {
        "id": "jHCK2Z_hDd5L"
      }
    }
  ]
}