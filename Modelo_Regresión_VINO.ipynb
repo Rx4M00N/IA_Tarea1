{
  "nbformat": 4,
  "nbformat_minor": 0,
  "metadata": {
    "colab": {
      "provenance": [],
      "authorship_tag": "ABX9TyMw7N9FcdJtlxDWDdOuYnMw",
      "include_colab_link": true
    },
    "kernelspec": {
      "name": "python3",
      "display_name": "Python 3"
    },
    "language_info": {
      "name": "python"
    }
  },
  "cells": [
    {
      "cell_type": "markdown",
      "metadata": {
        "id": "view-in-github",
        "colab_type": "text"
      },
      "source": [
        "<a href=\"https://colab.research.google.com/github/Rx4M00N/IA_Tarea1/blob/main/Modelo_Regresi%C3%B3n_VINO.ipynb\" target=\"_parent\"><img src=\"https://colab.research.google.com/assets/colab-badge.svg\" alt=\"Open In Colab\"/></a>"
      ]
    },
    {
      "cell_type": "markdown",
      "source": [
        "#Implementación Modelo VINO\n",
        "Regresión para obtener calidad en muestras de vino, tanto de tintos como de blancos.\n",
        "\n",
        "Elaborado por: Joshua Corvera y Ricardo Luna.\n",
        "\n",
        "MT-8008 Inteligencia Artificial, grupo 1, II Semestre 2022."
      ],
      "metadata": {
        "id": "yHZGrDfxy9qD"
      }
    },
    {
      "cell_type": "markdown",
      "source": [
        "##Importación de librerías"
      ],
      "metadata": {
        "id": "z4abSetmzcEE"
      }
    },
    {
      "cell_type": "code",
      "execution_count": null,
      "metadata": {
        "id": "WDYuimN4y4rl"
      },
      "outputs": [],
      "source": [
        "# Importación de librerías\n",
        "from tensorflow.keras.models import Sequential\n",
        "from tensorflow.keras.layers import Dense, Normalization\n",
        "from tensorflow.keras.optimizers import Adam, SGD\n",
        "from sklearn.preprocessing import StandardScaler\n",
        "import pandas as pd\n",
        "import matplotlib.pyplot as plt\n",
        "import numpy as np"
      ]
    },
    {
      "cell_type": "markdown",
      "source": [
        "##Carga de datos a partir de archivo .csv"
      ],
      "metadata": {
        "id": "wrwJZ9FOzqAs"
      }
    },
    {
      "cell_type": "code",
      "source": [
        "#Se cargan los datos desde un .csv\n",
        "datos_vino = pd.read_csv('winequality.csv', header=0)\n",
        "#Se revisa el arreglo cargado y se elimiman datos nulos\n",
        "datos_vino = datos_vino.dropna()\n",
        "#Muestra el arreglo cargado en pantalla\n",
        "print(datos_vino)"
      ],
      "metadata": {
        "colab": {
          "base_uri": "https://localhost:8080/"
        },
        "id": "ZfgQAh8zzjnC",
        "outputId": "7ab0d7d4-6bb0-4bb4-eb58-f468c75b8808"
      },
      "execution_count": null,
      "outputs": [
        {
          "output_type": "stream",
          "name": "stdout",
          "text": [
            "      fixed acidity  volatile acidity  citric acid  residual sugar  chlorides  \\\n",
            "0               7.0             0.270         0.36            20.7      0.045   \n",
            "1               6.3             0.300         0.34             1.6      0.049   \n",
            "2               8.1             0.280         0.40             6.9      0.050   \n",
            "3               7.2             0.230         0.32             8.5      0.058   \n",
            "4               7.2             0.230         0.32             8.5      0.058   \n",
            "...             ...               ...          ...             ...        ...   \n",
            "6492            6.2             0.600         0.08             2.0      0.090   \n",
            "6493            5.9             0.550         0.10             2.2      0.062   \n",
            "6494            6.3             0.510         0.13             2.3      0.076   \n",
            "6495            5.9             0.645         0.12             2.0      0.075   \n",
            "6496            6.0             0.310         0.47             3.6      0.067   \n",
            "\n",
            "      free sulfur dioxide  total sulfur dioxide  density    pH  sulphates  \\\n",
            "0                    45.0                 170.0  1.00100  3.00       0.45   \n",
            "1                    14.0                 132.0  0.99400  3.30       0.49   \n",
            "2                    30.0                  97.0  0.99510  3.26       0.44   \n",
            "3                    47.0                 186.0  0.99560  3.19       0.40   \n",
            "4                    47.0                 186.0  0.99560  3.19       0.40   \n",
            "...                   ...                   ...      ...   ...        ...   \n",
            "6492                 32.0                  44.0  0.99490  3.45       0.58   \n",
            "6493                 39.0                  51.0  0.99512  3.52       0.76   \n",
            "6494                 29.0                  40.0  0.99574  3.42       0.75   \n",
            "6495                 32.0                  44.0  0.99547  3.57       0.71   \n",
            "6496                 18.0                  42.0  0.99549  3.39       0.66   \n",
            "\n",
            "      alcohol  quality  \n",
            "0         8.8        6  \n",
            "1         9.5        6  \n",
            "2        10.1        6  \n",
            "3         9.9        6  \n",
            "4         9.9        6  \n",
            "...       ...      ...  \n",
            "6492     10.5        5  \n",
            "6493     11.2        6  \n",
            "6494     11.0        6  \n",
            "6495     10.2        5  \n",
            "6496     11.0        6  \n",
            "\n",
            "[6497 rows x 12 columns]\n"
          ]
        }
      ]
    },
    {
      "cell_type": "markdown",
      "source": [
        "##Formato de los datos y separación en subconjuntos"
      ],
      "metadata": {
        "id": "s2cXARY-zzqr"
      }
    },
    {
      "cell_type": "code",
      "source": [
        "# =============== Dar formato a los datos de entrenamiento ===============\n",
        "#Se define un porcentaje de los datos que se usará para entrenar.\n",
        "#En este caso se usan 80% de los datos para entrenamiento y validación, y 20%\n",
        "#para pruebas\n",
        "p_train = 0.80\n",
        "#Se seleccionan datos al azar, mediante la asignación temporal de flags\n",
        "datos_vino['is_train'] = np.random.uniform(0, 1, len(datos_vino)) <= p_train\n",
        "#Se dividen los datos en subconjuntos, según los flags asginados\n",
        "train, test = datos_vino[datos_vino['is_train']==True], datos_vino[datos_vino['is_train']==False]\n",
        "#Se eliminan los flags del conjunto original\n",
        "datos_vinotinto = datos_vino.drop('is_train', 1)\n",
        "#Se imprimen las cantidades de datos de entrenamiento y de prueba\n",
        "print(\"Ejemplos usados para entrenar: \", len(train))\n",
        "print(\"Ejemplos usados para test: \", len(test))\n",
        "#Se eliminan los flags temporales de los subconjuntos de prueba y entrenamiento\n",
        "train.pop('is_train')\n",
        "test.pop('is_train')\n",
        "#Se separan las etiquetas de las entradas, para cada subconjunto de datos\n",
        "train_labels = train.pop('quality')\n",
        "train_data = train\n",
        "test_labels = test.pop('quality')\n",
        "test_data = test"
      ],
      "metadata": {
        "colab": {
          "base_uri": "https://localhost:8080/"
        },
        "id": "1H_qOHSozyr6",
        "outputId": "abba17d2-cc1e-473e-c41d-a7578295528a"
      },
      "execution_count": null,
      "outputs": [
        {
          "output_type": "stream",
          "name": "stdout",
          "text": [
            "Ejemplos usados para entrenar:  5177\n",
            "Ejemplos usados para test:  1320\n"
          ]
        },
        {
          "output_type": "stream",
          "name": "stderr",
          "text": [
            "/usr/local/lib/python3.7/dist-packages/ipykernel_launcher.py:11: FutureWarning: In a future version of pandas all arguments of DataFrame.drop except for the argument 'labels' will be keyword-only\n",
            "  # This is added back by InteractiveShellApp.init_path()\n"
          ]
        }
      ]
    },
    {
      "cell_type": "markdown",
      "source": [
        "##Normalización de datos "
      ],
      "metadata": {
        "id": "TkJ4skFy0LdD"
      }
    },
    {
      "cell_type": "code",
      "source": [
        "#Se crea un objeto tipo scaler, que se encargará de normalizar los datos de cada\n",
        "#subconjunto\n",
        "scaler = StandardScaler()\n",
        "#Se normalizan los subconjuntos de entrenamiento y prueba \n",
        "normed_train_data = scaler.fit_transform(train_data)\n",
        "normed_test_data = scaler.fit_transform(test_data)"
      ],
      "metadata": {
        "id": "yo99kIJHz5pj"
      },
      "execution_count": null,
      "outputs": []
    },
    {
      "cell_type": "markdown",
      "source": [
        "##Creación y compilación del modelo"
      ],
      "metadata": {
        "id": "cwyX3l5f0xT7"
      }
    },
    {
      "cell_type": "code",
      "source": [
        "#Se define una función para facilitar la creación de la red densa\n",
        "def build_model():\n",
        "  #A continuación se crea el modelo para la red, definiendo un valor para las\n",
        "  #entradas con el parámetro input_shape=[len(train_data.keys())], y luego\n",
        "  #se agregan capas de neuronas a la red, con la cantidad definida de neuronas\n",
        "  #por capa y la función de activación sigmoide. Por último, se cuenta con una\n",
        "  #única neurona de salida\n",
        "  model = Sequential([\n",
        "    Dense(24, activation='sigmoid', input_shape=[len(train_data.keys())]),\n",
        "    Dense(24, activation='sigmoid'),\n",
        "    Dense(24, activation='sigmoid'),\n",
        "    Dense(1)\n",
        "  ])\n",
        "\n",
        "  #Se define el optimizador para implementar con la red, así como su tasa de\n",
        "  #aprendizaje y valor de momentum\n",
        "  optimizer = Adam(learning_rate=0.001, beta_1=0.9)\n",
        "\n",
        "  #Se compila el modelo definido, con la función de pérdida tipo Huber y usando\n",
        "  #los errores MAE y MSE como métricas, así como el optimizador definido\n",
        "  model.compile(loss='huber',\n",
        "                optimizer=optimizer,\n",
        "                metrics=['mae', 'mse'])\n",
        "  #Finaliza el llamado a la función mediante el retorno del modelo\n",
        "  return model\n",
        "#Se crea el modelo de la red, haciendo un llamado a la función anterior\n",
        "model = build_model()\n",
        "#Con el fin de verificar la creación adecuada del modelo, se muestra un resumen\n",
        "#de este último\n",
        "model.summary()"
      ],
      "metadata": {
        "colab": {
          "base_uri": "https://localhost:8080/"
        },
        "id": "JSCzV_Nh0wiT",
        "outputId": "cfa47829-4c3c-4a77-9911-3ce1f0959c60"
      },
      "execution_count": null,
      "outputs": [
        {
          "output_type": "stream",
          "name": "stdout",
          "text": [
            "Model: \"sequential_11\"\n",
            "_________________________________________________________________\n",
            " Layer (type)                Output Shape              Param #   \n",
            "=================================================================\n",
            " dense_44 (Dense)            (None, 24)                288       \n",
            "                                                                 \n",
            " dense_45 (Dense)            (None, 24)                600       \n",
            "                                                                 \n",
            " dense_46 (Dense)            (None, 24)                600       \n",
            "                                                                 \n",
            " dense_47 (Dense)            (None, 1)                 25        \n",
            "                                                                 \n",
            "=================================================================\n",
            "Total params: 1,513\n",
            "Trainable params: 1,513\n",
            "Non-trainable params: 0\n",
            "_________________________________________________________________\n"
          ]
        }
      ]
    },
    {
      "cell_type": "markdown",
      "source": [
        "##Entrenamiento"
      ],
      "metadata": {
        "id": "MfZXUob43CSi"
      }
    },
    {
      "cell_type": "code",
      "source": [
        "#Se define el número de iteraciones para realizar el entrenamiento\n",
        "EPOCHS = 200\n",
        "#Asimismo, se calcula la cantidad y frecuencia de las validaciones, según las\n",
        "#iteraciones realizadas\n",
        "CantVal = int(EPOCHS * 0.1)\n",
        "freqVal = int(EPOCHS / CantVal)\n",
        "#Se entrena a la red neuronal, usando el subconjunto de datos de entrenamiento\n",
        "#Además se define que un 20% de este conjunto se utilizará para validación\n",
        "#El inicio del entrenamiento se indica mediante un mensaje en pantalla\n",
        "print(\"Realizando entrenamiento...\")\n",
        "history = model.fit(\n",
        "  normed_train_data, train_labels.to_numpy(),\n",
        "  epochs=EPOCHS, validation_split = 0.2, validation_freq=freqVal, verbose=0)\n",
        "#Se indica el final del entrenamiento\n",
        "print(\"Fin del entrenamiento\")"
      ],
      "metadata": {
        "colab": {
          "base_uri": "https://localhost:8080/"
        },
        "id": "AWjt-rQr3Emy",
        "outputId": "e9e1cba7-09f9-444a-8039-1f09d42dc5b6"
      },
      "execution_count": null,
      "outputs": [
        {
          "output_type": "stream",
          "name": "stdout",
          "text": [
            "Realizando entrenamiento...\n",
            "Fin del entrenamiento\n"
          ]
        }
      ]
    },
    {
      "cell_type": "markdown",
      "source": [
        "##Gráficas de errores absoluto y cuadrático promedios"
      ],
      "metadata": {
        "id": "LL942W-14TP0"
      }
    },
    {
      "cell_type": "code",
      "source": [
        "# ================ Gráficas de Huber y MSE ================\n",
        "#Luego del entrenamiento, se obtienen los datos de pérdida para el entrenamiento\n",
        "#y la validación\n",
        "huber = history.history['loss']\n",
        "val_huber = history.history['val_loss']\n",
        "mse = history.history['mse']\n",
        "val_mse = history.history['val_mse']\n",
        "#Se crean arrays para definir los ejes horizontales de las pérdidas anteriores\n",
        "#en la gráfica\n",
        "x_huber = []\n",
        "x_mse = []\n",
        "x_valhuber = []\n",
        "x_valmse = []\n",
        "#Se agregan los valores a cada eje x del entrenamiento, que corresponden a cada\n",
        "#iteración\n",
        "for i in range(EPOCHS):\n",
        "  x_huber.append(i + 1)\n",
        "  x_mse.append(i + 1)\n",
        "#Se agregan los valores a cada eje x de validación, de acuerdo con la frecuencia \n",
        "#de validación definida anteriormente\n",
        "for i in range(CantVal):\n",
        "  x_valhuber.append((i + 1) * freqVal)\n",
        "  x_valmse.append((i + 1) * freqVal)\n",
        "#Para graficar de mejor forma los resultados, se usa un subplot con 2 espacios\n",
        "fig, axs = plt.subplots(nrows=1, ncols=2, figsize=(9, 4))\n",
        "#Se configuran los nombres de cada eje en las gráficas\n",
        "axs[0].set_xlabel(\"Iteración\")\n",
        "axs[0].set_ylabel(\"Error Huber\")\n",
        "axs[1].set_xlabel(\"Iteración\")\n",
        "axs[1].set_ylabel(\"MSE\")\n",
        "#Se grafican los datos de error de Huber para el entrenamiento y la validación\n",
        "axs[0].plot(x_huber, huber, label=\"Error de entrenamiento\")\n",
        "axs[0].plot(x_valhuber, val_huber, label=\"Error de validación\")\n",
        "#Se grafican los datos de error cuadrático para el entrenamiento y la validación\n",
        "axs[1].plot(x_mse, mse, label=\"Error de entrenamiento\")\n",
        "axs[1].plot(x_valmse, val_mse, label=\"Error de validación\")\n",
        "#Limita los ejes de las gráficas a valores entre 0 y 1, para observar cada error\n",
        "axs[0].set_ylim([0,1])\n",
        "axs[1].set_ylim([0,1])\n",
        "#Muestra las leyendas para identificar las curvas\n",
        "axs[0].legend()\n",
        "axs[1].legend()\n",
        "#Despliega las gráficas resultantes\n",
        "fig.tight_layout()\n",
        "plt.show()"
      ],
      "metadata": {
        "colab": {
          "base_uri": "https://localhost:8080/",
          "height": 297
        },
        "id": "f1hZvvRU4yK0",
        "outputId": "5abe1a13-4aad-4019-ac1f-3d2a7a4259f6"
      },
      "execution_count": null,
      "outputs": [
        {
          "output_type": "display_data",
          "data": {
            "text/plain": [
              "<Figure size 648x288 with 2 Axes>"
            ],
            "image/png": "[encoded data removed]"
          },
          "metadata": {
            "needs_background": "light"
          }
        }
      ]
    },
    {
      "cell_type": "markdown",
      "source": [
        "##Evaluación de pruebas"
      ],
      "metadata": {
        "id": "jaDblDea7xeL"
      }
    },
    {
      "cell_type": "code",
      "source": [
        "#Para evaluar completamente el funcionamiento del modelo, se realiza una serie\n",
        "#de predicciones usando el subconjunto de prueba que se definió anteriormente\n",
        "test_predictions = model.predict(normed_test_data).flatten()\n",
        "#Para observar cuánto distan los valores predichos de los valores reales, se\n",
        "#realiza una gráfica de dispersión entre dichos datos\n",
        "plt.scatter(test_labels, test_predictions)\n",
        "#Se colocan los nombres de los ejes\n",
        "plt.xlabel('Valores reales')\n",
        "plt.ylabel('Valores predichos')\n",
        "#Se definen las dimensiones de la gráfica\n",
        "plt.axis('equal')\n",
        "plt.axis('square')\n",
        "#Se establecen límites para cada uno de los ejes, de modo que se aproveche el\n",
        "#espacio lo más que se pueda\n",
        "plt.xlim([0,plt.xlim()[1]])\n",
        "plt.ylim([0,plt.ylim()[1]])\n",
        "#Se dibuja la recta ideal en la cual se encontrarían los datos, si el error de\n",
        "#la red fuera cero\n",
        "_ = plt.plot([-100, 100], [-100, 100])"
      ],
      "metadata": {
        "colab": {
          "base_uri": "https://localhost:8080/",
          "height": 279
        },
        "id": "YDScy9Kv6KDg",
        "outputId": "8258c113-8d81-4e22-84a4-8957c3e095bb"
      },
      "execution_count": null,
      "outputs": [
        {
          "output_type": "display_data",
          "data": {
            "text/plain": [
              "<Figure size 432x288 with 1 Axes>"
            ],
            "image/png": "[encoded data removed]"
          },
          "metadata": {
            "needs_background": "light"
          }
        }
      ]
    },
    {
      "cell_type": "code",
      "source": [
        "#En adición a lo anterior, se realiza un histograma en donde se indica la\n",
        "#cantidad de veces que sucedió cada posible error en la predicción\n",
        "#Para ello, se calcula el error de predicción, al sustraer los valores reales\n",
        "#de los valores predichos\n",
        "error = test_predictions - test_labels\n",
        "#Se grafica el histograma correctamente\n",
        "plt.hist(error, bins = 25)\n",
        "plt.xlabel(\"Error de predicción\")\n",
        "_ = plt.ylabel(\"Cantidad\")"
      ],
      "metadata": {
        "colab": {
          "base_uri": "https://localhost:8080/",
          "height": 280
        },
        "id": "kjjz_X8i6hMS",
        "outputId": "02dd4888-1f38-474d-8600-f8add24d0112"
      },
      "execution_count": null,
      "outputs": [
        {
          "output_type": "display_data",
          "data": {
            "text/plain": [
              "<Figure size 432x288 with 1 Axes>"
            ],
            "image/png": "[encoded data removed]"
          },
          "metadata": {
            "needs_background": "light"
          }
        }
      ]
    },
    {
      "cell_type": "markdown",
      "source": [
        "##Carga de datos externos\n"
      ],
      "metadata": {
        "id": "ZBLGV9-R79pQ"
      }
    },
    {
      "cell_type": "code",
      "source": [
        "# ================ Carga de datos externos ================\n",
        "#Primero se cargan los datos a partir de un nuevo archivo .csv\n",
        "data_wine = pd.read_csv('winequality1.csv', header=0)\n",
        "print(data_wine)\n",
        "#Como estos datos solo incluyen los parámetros de entrada, se procede a su\n",
        "#normalización\n",
        "normed_data_wine = scaler.fit_transform(data_wine)\n",
        "#Luego, se calculan las calidades de vino\n",
        "qual_preds = model.predict(normed_data_wine).flatten()\n",
        "print(\"\\nQualities:\",qual_preds)"
      ],
      "metadata": {
        "colab": {
          "base_uri": "https://localhost:8080/"
        },
        "id": "h0wLcH2p8Am_",
        "outputId": "7883dc78-7d09-4421-fee4-4d50e3a5f49d"
      },
      "execution_count": null,
      "outputs": [
        {
          "output_type": "stream",
          "name": "stdout",
          "text": [
            "   fixed acidity  volatile acidity  citric acid  residual sugar  chlorides  \\\n",
            "0            5.9              0.66         0.58             2.3         77   \n",
            "1            8.7              0.16         0.26             9.3         25   \n",
            "2            7.2              0.64         0.42             6.3         56   \n",
            "3            6.3              0.56         0.18             5.3        177   \n",
            "4            9.9              0.26         0.02             6.9         24   \n",
            "5            5.9              0.77         0.12             7.2        112   \n",
            "\n",
            "   free sulfur dioxide  total sulfur dioxide  density   pH  sulphates  alcohol  \n",
            "0                   52                    12   0.9733  4.2       0.56     10.2  \n",
            "1                   16                    34   0.9933  3.2       0.65     12.2  \n",
            "2                   15                    22   0.9018  1.2       1.08      8.2  \n",
            "3                   17                    23   0.8933  8.2       0.91     11.7  \n",
            "4                   17                    51   0.8733  2.3       0.67      9.2  \n",
            "5                    9                    67   0.8841  6.5       1.17     14.5  \n",
            "\n",
            "Qualities: [6.2335763 5.527224  5.7745852 6.0658298 6.4724865 6.180926 ]\n"
          ]
        }
      ]
    }
  ]
}