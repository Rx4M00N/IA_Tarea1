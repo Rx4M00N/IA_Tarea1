{
  "nbformat": 4,
  "nbformat_minor": 0,
  "metadata": {
    "colab": {
      "provenance": [],
      "collapsed_sections": [],
      "authorship_tag": "ABX9TyN1WNDVISROkXq1CQXuEEQZ",
      "include_colab_link": true
    },
    "kernelspec": {
      "name": "python3",
      "display_name": "Python 3"
    },
    "language_info": {
      "name": "python"
    },
    "accelerator": "GPU"
  },
  "cells": [
    {
      "cell_type": "markdown",
      "metadata": {
        "id": "view-in-github",
        "colab_type": "text"
      },
      "source": [
        "<a href=\"https://colab.research.google.com/github/Rx4M00N/IA_Tarea1/blob/main/CNN_Conjunto_propio.ipynb\" target=\"_parent\"><img src=\"https://colab.research.google.com/assets/colab-badge.svg\" alt=\"Open In Colab\"/></a>"
      ]
    },
    {
      "cell_type": "markdown",
      "source": [
        "# CNN conjuntos propios"
      ],
      "metadata": {
        "id": "jPAYGU8dhsak"
      }
    },
    {
      "cell_type": "code",
      "execution_count": null,
      "metadata": {
        "id": "awyrCJWhq8Uv"
      },
      "outputs": [],
      "source": [
        "#Importació de las librerías requeridas\n",
        "#Librerías para cálculos, operaciones y gráficas \n",
        "import numpy as np\n",
        "import pandas as pd\n",
        "import seaborn as sns\n",
        "import os\n",
        "import matplotlib.pyplot as plt\n",
        "from matplotlib.image import imread\n",
        "from posix import mkdir\n",
        "import shutil\n",
        "%matplotlib inline\n",
        "\n",
        "#Librerías para el uso de redes de inteligencia artificial de Tensorflow\n",
        "import tensorflow as tf \n",
        "from tensorflow.keras.preprocessing.image import ImageDataGenerator , load_img ,img_to_array\n",
        "from tensorflow.keras.models import Sequential\n",
        "from tensorflow.keras.layers import Activation, Dropout, Flatten, Dense, Conv2D, MaxPooling2D\n",
        "from tensorflow.keras.callbacks import EarlyStopping\n",
        "from sklearn.metrics import classification_report,confusion_matrix\n",
        "from tensorflow.keras.preprocessing import image \n",
        "import warnings\n",
        "warnings.filterwarnings('ignore')"
      ]
    },
    {
      "cell_type": "markdown",
      "source": [
        "## Preparación de los datos"
      ],
      "metadata": {
        "id": "BW-b3ygwiHh5"
      }
    },
    {
      "cell_type": "markdown",
      "source": [
        "Para poder ejecutar correctamente se debe disponer de la carpeta que se encuentra en el siguiente link, dicha carpeta debe encontrarse en \"Mi unidad\" del drive ya sea como acceso directo o como una carpeta propia.\n",
        "\n",
        "Url: https://drive.google.com/drive/folders/17-FYcPTY414-kD1ZjIxy4CKocL9JBHg9?usp=sharing"
      ],
      "metadata": {
        "id": "2T8VAq4qEp4T"
      }
    },
    {
      "cell_type": "code",
      "source": [
        "#Librería para acceder a google drive\n",
        "from google.colab import drive\n",
        "#Se accede a los documentos desde Google Drive\n",
        "drive.mount('/content/gdrive')\n",
        "\n",
        "#Se extraen los archivos del .zip tanto para las partes malas y las buenas\n",
        "my_data_dir_def = !unzip gdrive/My\\ Drive/mix_data/def_front.zip > /dev/null\n",
        "my_data_dir_ok = !unzip gdrive/My\\ Drive/mix_data/ok_front.zip > /dev/null"
      ],
      "metadata": {
        "colab": {
          "base_uri": "https://localhost:8080/"
        },
        "id": "LXPfRVsnrOnx",
        "outputId": "6aa706eb-78bc-4d1b-df27-fea7c7b22e97"
      },
      "execution_count": null,
      "outputs": [
        {
          "output_type": "stream",
          "name": "stdout",
          "text": [
            "Mounted at /content/gdrive\n"
          ]
        }
      ]
    },
    {
      "cell_type": "code",
      "source": [
        "#Se establecen las rutas para abrir las carpetas con todas las piezas malas y las buenas\n",
        "my_data_dir_def = 'def_front/'\n",
        "my_data_dir_ok = 'ok_front/'"
      ],
      "metadata": {
        "id": "5btzymcSrSLX"
      },
      "execution_count": null,
      "outputs": []
    },
    {
      "cell_type": "code",
      "source": [
        "#Se muestra la cantidad de piezas etiquetadas como malas y buenas, ambas en sus respectivas carpetas\n",
        "print(\"Cantidad de piezas malas generales:\",len(os.listdir(my_data_dir_def)))\n",
        "print(\"Cantidad de piezas buenas generales:\",len(os.listdir(my_data_dir_ok)))"
      ],
      "metadata": {
        "colab": {
          "base_uri": "https://localhost:8080/"
        },
        "id": "iFqgqiz6jbF-",
        "outputId": "3b569f77-0fa8-4b95-81b2-2745f523fbbc"
      },
      "execution_count": null,
      "outputs": [
        {
          "output_type": "stream",
          "name": "stdout",
          "text": [
            "Cantidad de piezas malas generales: 4211\n",
            "Cantidad de piezas buenas generales: 3137\n"
          ]
        }
      ]
    },
    {
      "cell_type": "code",
      "source": [
        "#Crear carpeta general de data y sus rutas para dividir en entrenamiento y prueba\n",
        "mkdir(\"data/\")\n",
        "mkdir(\"data/train\")\n",
        "mkdir(\"data/test\")"
      ],
      "metadata": {
        "id": "FsjLuD6avEmD"
      },
      "execution_count": null,
      "outputs": []
    },
    {
      "cell_type": "code",
      "source": [
        "#Crear carpeta para train con sus subconjuntos\n",
        "mkdir(\"data/train/def_front/\")\n",
        "traindef_path = 'data/train/def_front/'\n",
        "\n",
        "mkdir(\"data/train/ok_front/\")\n",
        "trainok_path = 'data/train/ok_front/'"
      ],
      "metadata": {
        "id": "5MnEB_WZsdHR"
      },
      "execution_count": null,
      "outputs": []
    },
    {
      "cell_type": "code",
      "source": [
        "#Crear carpeta test con sus subconjuntos\n",
        "mkdir(\"data/test/def_front/\")\n",
        "testdef_path = 'data/test/def_front/'\n",
        "\n",
        "mkdir(\"data/test/ok_front/\")\n",
        "testok_path = 'data/test/ok_front/'"
      ],
      "metadata": {
        "id": "SD99UdMAvlMm"
      },
      "execution_count": null,
      "outputs": []
    },
    {
      "cell_type": "code",
      "source": [
        "#Se asigna la información de las carpetas de defectuosas y de buenas a dos variables\n",
        "#El comando os.listdir permite ver el contenido de la carpeta en una lista\n",
        "def_data = os.listdir(my_data_dir_def)  #Variable que contiene lista de partes malas\n",
        "ok_data = os.listdir(my_data_dir_ok)    #Variable que contiene lista de partes buenas"
      ],
      "metadata": {
        "id": "Q9BVWNoPlqxu"
      },
      "execution_count": null,
      "outputs": []
    },
    {
      "cell_type": "markdown",
      "source": [
        "## Creación de los subconjuntos"
      ],
      "metadata": {
        "id": "knKPlnTSidAs"
      }
    },
    {
      "cell_type": "markdown",
      "source": [
        "Esta sección usa la información de la lista para recorrerla, para ello extrae 3758 elementos de manera al azar y crea una lista nueva con ellos, esta lista contiene la dirección de los elementos que se usaran para la prueba, se recorre por medio de un ciclo for y va moviendo los elementos hasta la carpeta de entrenamiento, luego con los archivos restantes se repite lo mismo pero para la carpeta de prueba"
      ],
      "metadata": {
        "id": "JXbi0fPDBn5q"
      }
    },
    {
      "cell_type": "code",
      "source": [
        "#Se divide la información de las piezas malas entre el entrenamiento y la prueba\n",
        "#Mover los 3758 datos de la carpeta de defectuosas a la carpeta de train\n",
        "def_train_move = np.random.choice(def_data, 3758, False)  #Crea el array random\n",
        "\n",
        "for x in def_train_move:\n",
        "  shutil.move(my_data_dir_def+x, traindef_path) #Mueve los archivos random a la carpeta de train/def_front\n",
        "\n",
        "def_data = os.listdir(my_data_dir_def) #Actualiza def_data para quitar los valores anteriores del array \n",
        "\n",
        "#Mover las restantes a la carpeta de test\n",
        "for y in def_data:\n",
        "  shutil.move(my_data_dir_def+y, testdef_path) #Mueve los archivos restantes a la carpeta de test/def_front"
      ],
      "metadata": {
        "id": "ZqfOmZzvq4c8"
      },
      "execution_count": null,
      "outputs": []
    },
    {
      "cell_type": "markdown",
      "source": [
        "Esta sección usa la información de la lista para recorrerla, para ello extrae 2875 elementos de manera al azar de la carpeta de piezas buenas y crea una lista nueva con ellos, esta lista contiene la dirección de los elementos que se usaran para la prueba, se recorre por medio de un ciclo for y va moviendo los elementos hasta la carpeta de entrenamiento, luego con los archivos restantes se repite lo mismo pero para la carpeta de prueba"
      ],
      "metadata": {
        "id": "3aLDxnABCLAK"
      }
    },
    {
      "cell_type": "code",
      "source": [
        "#Se divide la información de las piezas buenas entre el entrenamiento y la prueba\n",
        "#Mover los 2875 datos de la carpeta de defectuosas a la carpeta de train\n",
        "ok_train_move = np.random.choice(ok_data, 2875, False)  #Crea el array randombsin repetir\n",
        "\n",
        "for x in ok_train_move:\n",
        "  shutil.move(my_data_dir_ok+x, trainok_path) #Mueve los archivos random a la carpeta de train/ok_front\n",
        "\n",
        "ok_data = os.listdir(my_data_dir_ok)  #Actualiza el array de ok_data\n",
        "\n",
        "#Mover las restantes a la carpeta de test\n",
        "for y in ok_data:\n",
        "  shutil.move(my_data_dir_ok+y, testok_path) #Mueve los archivos restantes a la carpeta de test/ok_front"
      ],
      "metadata": {
        "id": "8hAoMJfa1Mq9"
      },
      "execution_count": null,
      "outputs": []
    },
    {
      "cell_type": "markdown",
      "source": [
        "Se cuentan la cantidad de archivos contenidos en cada carpeta, solo para verificar que todo se completo de manera correcta"
      ],
      "metadata": {
        "id": "uioK-FaUCUe4"
      }
    },
    {
      "cell_type": "code",
      "source": [
        "#Se muestra la cantidad de piezas etiquetadas como defectuosas y como buenas en el subconjunto de entrenamiento/train\n",
        "print(\"Cantidad de piezas de train malas def_front:\",len(os.listdir(traindef_path)))\n",
        "print(\"Cantidad de piezas de train buenas ok_front:\",len(os.listdir(trainok_path)))"
      ],
      "metadata": {
        "colab": {
          "base_uri": "https://localhost:8080/"
        },
        "id": "h4e8t3dMx50k",
        "outputId": "a5fd5f10-9df2-4317-d796-085bfb90f714"
      },
      "execution_count": null,
      "outputs": [
        {
          "output_type": "stream",
          "name": "stdout",
          "text": [
            "Cantidad de piezas de train malas def_front: 3758\n",
            "Cantidad de piezas de train buenas ok_front: 2875\n"
          ]
        }
      ]
    },
    {
      "cell_type": "code",
      "source": [
        "#Se muestra la cantidad de piezas etiquetadas como defectuosas y como buenas en el subconjunto de prueba/test\n",
        "print(\"Cantidad de piezas de test malas def_front:\",len(os.listdir(testdef_path)))\n",
        "print(\"Cantidad de piezas de test buenas ok_front:\",len(os.listdir(testok_path)))"
      ],
      "metadata": {
        "colab": {
          "base_uri": "https://localhost:8080/"
        },
        "id": "jIAVP_tF2Eo_",
        "outputId": "1dc03d38-ef8c-40c4-9ed7-90538e5e9f94"
      },
      "execution_count": null,
      "outputs": [
        {
          "output_type": "stream",
          "name": "stdout",
          "text": [
            "Cantidad de piezas de test malas def_front: 453\n",
            "Cantidad de piezas de test buenas ok_front: 262\n"
          ]
        }
      ]
    },
    {
      "cell_type": "markdown",
      "source": [
        "A partir de esta sección se realiza lo mismo que con la red de datos de los autores, el modelo utilizado será el seleccionado después de evaluar los hiperparámetros, de esta manera se realiza una comparación bajo las mismas condicones de red."
      ],
      "metadata": {
        "id": "hfhBP-_SCryz"
      }
    },
    {
      "cell_type": "code",
      "source": [
        "#Se crean dos variables con las rutas a las carpetas de train y de test generales\n",
        "train_path = 'data/train/'\n",
        "test_path = 'data/test/'\n",
        "\n",
        "#Creación de 2 parámetros de la red, donde se da la información como el tamaño de pixeles de la imágen\n",
        "image_shape = (300,300,1)\n",
        "batch_size = 32 #Se ajusta en realción a los y el tipo de problema"
      ],
      "metadata": {
        "id": "LNN9ihs26aE4"
      },
      "execution_count": null,
      "outputs": []
    },
    {
      "cell_type": "code",
      "source": [
        "# Se normaliza la imágen escalando los valores a grises y así tener solo una clase\n",
        "image_gen = ImageDataGenerator(rescale=1/255)"
      ],
      "metadata": {
        "id": "KqQHSROF8CmA"
      },
      "execution_count": null,
      "outputs": []
    },
    {
      "cell_type": "code",
      "source": [
        "#Preparación de los datos de entrenamiento\n",
        "train_set = image_gen.flow_from_directory(train_path,\n",
        "                                               target_size=image_shape[:2],\n",
        "                                                color_mode=\"grayscale\",\n",
        "                                               batch_size=batch_size,            #Tamaño de los paquetes que se analizan\n",
        "                                               class_mode='binary',shuffle=True) #Establece que va a ser de manera binaria, asigna 0 a defectuosa y 1 a buena\n",
        "\n",
        "#Preparación de los datos de prueba\n",
        "test_set = image_gen.flow_from_directory(test_path,\n",
        "                                               target_size=image_shape[:2],\n",
        "                                               color_mode=\"grayscale\",\n",
        "                                               batch_size=batch_size,\n",
        "                                               class_mode='binary',shuffle=False)"
      ],
      "metadata": {
        "colab": {
          "base_uri": "https://localhost:8080/"
        },
        "id": "qNDaYZ2m8HH-",
        "outputId": "a9357347-6110-4b6d-b55b-01e46eee7c34"
      },
      "execution_count": null,
      "outputs": [
        {
          "output_type": "stream",
          "name": "stdout",
          "text": [
            "Found 6633 images belonging to 2 classes.\n",
            "Found 715 images belonging to 2 classes.\n"
          ]
        }
      ]
    },
    {
      "cell_type": "code",
      "source": [
        "#Se usa para demostrar que las piezas defectuosas son tomadas como 0 y las buenas como 1\n",
        "train_set.class_indices"
      ],
      "metadata": {
        "colab": {
          "base_uri": "https://localhost:8080/"
        },
        "id": "vXCEAZp7DIAn",
        "outputId": "383d41d7-0049-49bc-f571-efd6f1d11be4"
      },
      "execution_count": null,
      "outputs": [
        {
          "output_type": "execute_result",
          "data": {
            "text/plain": [
              "{'def_front': 0, 'ok_front': 1}"
            ]
          },
          "metadata": {},
          "execution_count": 16
        }
      ]
    },
    {
      "cell_type": "markdown",
      "source": [
        "## Creación del modelo convolucional"
      ],
      "metadata": {
        "id": "aOJ0mdv7DKd1"
      }
    },
    {
      "cell_type": "markdown",
      "source": [
        "Se crea el modelo convolucional donde se definen características como cantidad de filtros, tamaño del kernel por capa, tamaño del pooling y otros hiperparámetros como el stride o el zero padding, en esta sección también se crea la red densa de clasificación que se ubica al final de la CNN.\n",
        "\n",
        "Para su elaboración se hizo de manera secuencial 3 ciclos de convolucional y de pooling y una única capa oculta."
      ],
      "metadata": {
        "id": "qAH1Vok6DPoz"
      }
    },
    {
      "cell_type": "code",
      "source": [
        "#Creación del modelo CNN\n",
        "#Se crea una secuencia, la cual es una función de tensorflow\n",
        "model = Sequential()\n",
        "\n",
        "#Primeras capas, una convolucional y otra de pooling para reducir\n",
        "#Se puede cambiar la cantidad de filtros, el tamaño del kernel, el valor del stride (salto), la existencia o no del padding\n",
        "#Se introduce en tamaño de la imagen (300x300) y la función de activación,la cual es una reLu.\n",
        "model.add(Conv2D(filters=8, kernel_size=(3,3), strides=(1, 1), padding=\"valid\", input_shape=image_shape, activation='relu',)) #Ciclo 1, kernel 3x3, 8 filtros, stride=1\n",
        "model.add(MaxPooling2D(pool_size=(2, 2)))                                                                                     #sin padding, MaxPooling de 2x2\n",
        "\n",
        "#Segunda capa, una convolucional y otra de pooling para reducir\n",
        "model.add(Conv2D(filters=16, kernel_size=(3,3), strides=(1, 1), padding=\"valid\", input_shape=image_shape, activation='relu',)) #Ciclo 2, kernel 3x3, 16 filtros, stride=1\n",
        "model.add(MaxPooling2D(pool_size=(2, 2)))                                                                                      #sin padding, MaxPooling de 2x2\n",
        "\n",
        "#Tercera capa, una convolucional y otra de pooling para reducir\n",
        "model.add(Conv2D(filters=16, kernel_size=(3,3), strides=(1, 1), padding=\"valid\", input_shape=image_shape, activation='relu',)) #Ciclo 3, kernel 3x3, 16 filtros, stride=1\n",
        "model.add(MaxPooling2D(pool_size=(2, 2)))                                                                                      #sin padding, MaxPooling de 2x2\n",
        "\n",
        "#Al finalizar el proceso se pasa por una etápa de flattering para acondicionar los datos para la red de clasificación\n",
        "model.add(Flatten())\n",
        "\n",
        "#Comienzo de la red densa de clasificación\n",
        "\n",
        "model.add(Dense(75))              #75 neuronas en una capa\n",
        "model.add(Activation('sigmoid'))   #Función de activación de tipo sigmpoide debido a que es densa\n",
        "#model.add(Dropout(0.5))\n",
        "\n",
        "# Última capa, salida de la red\n",
        "model.add(Dense(1, activation='sigmoid'))  #Se establece una neurona de saldia debido a la elección de categoría binaria\n",
        "\n",
        "model.compile(loss='binary_crossentropy',  #Red densa de clasificación\n",
        "              optimizer='adam',\n",
        "              metrics=['accuracy'])\n",
        "#Early_stop monitorea la pérdida obtenida y si empieza a ver que se estanca detiene el entrenamiento\n",
        "early_stop = EarlyStopping(monitor='loss',patience=2) "
      ],
      "metadata": {
        "id": "c4si9UbHOuot"
      },
      "execution_count": null,
      "outputs": []
    },
    {
      "cell_type": "markdown",
      "source": [
        "Luego de crear el modelo se procede a entrenarlo, para ello se usa el conjunto de datos de entrenamiento y se corre por 20 iteraciones o hasta que el early_stop decida detener el entrenamiento"
      ],
      "metadata": {
        "id": "2hTAQpGmDilr"
      }
    },
    {
      "cell_type": "code",
      "source": [
        "#Entrenamiento de la red CNN\n",
        "results = model.fit_generator(train_set,epochs=20,\n",
        "                              validation_data=test_set,\n",
        "                             callbacks=[early_stop])"
      ],
      "metadata": {
        "colab": {
          "base_uri": "https://localhost:8080/"
        },
        "id": "gv8CaKUMDjSJ",
        "outputId": "7e9e51d5-fafa-46a4-e5f6-e22cc59e027f"
      },
      "execution_count": null,
      "outputs": [
        {
          "output_type": "stream",
          "name": "stdout",
          "text": [
            "Epoch 1/20\n",
            "208/208 [==============================] - 17s 81ms/step - loss: 0.5099 - accuracy: 0.7401 - val_loss: 0.3373 - val_accuracy: 0.8573\n",
            "Epoch 2/20\n",
            "208/208 [==============================] - 17s 79ms/step - loss: 0.2213 - accuracy: 0.9224 - val_loss: 0.1277 - val_accuracy: 0.9636\n",
            "Epoch 3/20\n",
            "208/208 [==============================] - 17s 81ms/step - loss: 0.1204 - accuracy: 0.9683 - val_loss: 0.0872 - val_accuracy: 0.9804\n",
            "Epoch 4/20\n",
            "208/208 [==============================] - 17s 80ms/step - loss: 0.0813 - accuracy: 0.9812 - val_loss: 0.0673 - val_accuracy: 0.9902\n",
            "Epoch 5/20\n",
            "208/208 [==============================] - 18s 86ms/step - loss: 0.0530 - accuracy: 0.9891 - val_loss: 0.0521 - val_accuracy: 0.9832\n",
            "Epoch 6/20\n",
            "208/208 [==============================] - 18s 86ms/step - loss: 0.0476 - accuracy: 0.9896 - val_loss: 0.0478 - val_accuracy: 0.9874\n",
            "Epoch 7/20\n",
            "208/208 [==============================] - 17s 81ms/step - loss: 0.0400 - accuracy: 0.9907 - val_loss: 0.0295 - val_accuracy: 0.9930\n",
            "Epoch 8/20\n",
            "208/208 [==============================] - 17s 80ms/step - loss: 0.0317 - accuracy: 0.9934 - val_loss: 0.0219 - val_accuracy: 0.9958\n",
            "Epoch 9/20\n",
            "208/208 [==============================] - 17s 80ms/step - loss: 0.0284 - accuracy: 0.9928 - val_loss: 0.0239 - val_accuracy: 0.9916\n",
            "Epoch 10/20\n",
            "208/208 [==============================] - 17s 80ms/step - loss: 0.0224 - accuracy: 0.9935 - val_loss: 0.0206 - val_accuracy: 0.9930\n",
            "Epoch 11/20\n",
            "208/208 [==============================] - 17s 80ms/step - loss: 0.0262 - accuracy: 0.9932 - val_loss: 0.0213 - val_accuracy: 0.9930\n",
            "Epoch 12/20\n",
            "208/208 [==============================] - 17s 80ms/step - loss: 0.0128 - accuracy: 0.9971 - val_loss: 0.0144 - val_accuracy: 0.9972\n",
            "Epoch 13/20\n",
            "208/208 [==============================] - 17s 79ms/step - loss: 0.0251 - accuracy: 0.9925 - val_loss: 0.0279 - val_accuracy: 0.9902\n",
            "Epoch 14/20\n",
            "208/208 [==============================] - 18s 85ms/step - loss: 0.0216 - accuracy: 0.9943 - val_loss: 0.0319 - val_accuracy: 0.9902\n"
          ]
        }
      ]
    },
    {
      "cell_type": "markdown",
      "source": [
        "## Resultados del entrenamiento"
      ],
      "metadata": {
        "id": "I2_57PLADlmJ"
      }
    },
    {
      "cell_type": "code",
      "source": [
        "#Se grafica la perdida\n",
        "losses = pd.DataFrame(model.history.history)\n",
        "losses[['loss','val_loss']].plot()\n",
        "plt.xlabel('Iteraciones')\n",
        "plt.ylabel('Error')"
      ],
      "metadata": {
        "colab": {
          "base_uri": "https://localhost:8080/",
          "height": 296
        },
        "id": "0VIS5--ZDodc",
        "outputId": "a1a76b9e-0112-4d9f-a3fe-18254f328fe1"
      },
      "execution_count": null,
      "outputs": [
        {
          "output_type": "execute_result",
          "data": {
            "text/plain": [
              "Text(0, 0.5, 'Error')"
            ]
          },
          "metadata": {},
          "execution_count": 35
        },
        {
          "output_type": "display_data",
          "data": {
            "text/plain": [
              "<Figure size 432x288 with 1 Axes>"
            ],
            "image/png": "[encoded data removed]"
          },
          "metadata": {
            "needs_background": "light"
          }
        }
      ]
    },
    {
      "cell_type": "code",
      "source": [
        "#Se grafica la presición obtenida\n",
        "losses[['accuracy','val_accuracy']].plot()\n",
        "plt.xlabel('Iteraciones')\n",
        "plt.ylabel('Error')"
      ],
      "metadata": {
        "colab": {
          "base_uri": "https://localhost:8080/",
          "height": 296
        },
        "id": "iqE2Az6lDrzD",
        "outputId": "53ed20f4-2e75-46b1-b6d7-87f3085cd44d"
      },
      "execution_count": null,
      "outputs": [
        {
          "output_type": "execute_result",
          "data": {
            "text/plain": [
              "Text(0, 0.5, 'Error')"
            ]
          },
          "metadata": {},
          "execution_count": 36
        },
        {
          "output_type": "display_data",
          "data": {
            "text/plain": [
              "<Figure size 432x288 with 1 Axes>"
            ],
            "image/png": "[encoded data removed]"
          },
          "metadata": {
            "needs_background": "light"
          }
        }
      ]
    },
    {
      "cell_type": "code",
      "source": [
        "'''\n",
        "Variable que predice la probabilidad de pertener a una categoría\n",
        "Recordando que solo existe una neurona de salida por ser binario\n",
        "por lo que se requiere para establecer un margen\n",
        "'''\n",
        "pred_probability = model.predict_generator(test_set)\n",
        "\n",
        "#En caso de superar un 0.5, pasa a considerarse un 1 o pieza buena\n",
        "predictions = pred_probability > 0.5"
      ],
      "metadata": {
        "id": "tYzYBznFDtcF"
      },
      "execution_count": null,
      "outputs": []
    },
    {
      "cell_type": "code",
      "source": [
        "#Se imprimen en pantalla una tabla resumen de los resultado\n",
        "#Se indica la presición que tiene al clasificar el conjunto de test\n",
        "print(classification_report(test_set.classes,predictions))"
      ],
      "metadata": {
        "colab": {
          "base_uri": "https://localhost:8080/"
        },
        "id": "0xPO5GGmDz-G",
        "outputId": "d828f88d-3bc1-4cbf-f33a-cecd76000bd9"
      },
      "execution_count": null,
      "outputs": [
        {
          "output_type": "stream",
          "name": "stdout",
          "text": [
            "              precision    recall  f1-score   support\n",
            "\n",
            "           0       1.00      0.99      0.99       453\n",
            "           1       0.98      1.00      0.99       262\n",
            "\n",
            "    accuracy                           0.99       715\n",
            "   macro avg       0.99      0.99      0.99       715\n",
            "weighted avg       0.99      0.99      0.99       715\n",
            "\n"
          ]
        }
      ]
    },
    {
      "cell_type": "markdown",
      "source": [
        "Lo último que se realiza es la matriz de confusión, esta será la encargada de verificar el fucnionamiento de la red, para poder conocer que tan bien entrenada está, un resultado negativo sería que la red falle muchos resultados al clasificar, lo que obligaría a volver a entrenarla o modificarla para un mejor reultado"
      ],
      "metadata": {
        "id": "YAfZBcfFD1hX"
      }
    },
    {
      "cell_type": "code",
      "source": [
        "#Se grafica la matriz de confusión para evaluar el funcionamiento de la red\n",
        "plt.figure(figsize=(10,6))\n",
        "sns.heatmap(confusion_matrix(test_set.classes,predictions),annot=True)\n",
        "plt.xlabel(\"Reales\")\n",
        "plt.ylabel(\"Predicción\")"
      ],
      "metadata": {
        "colab": {
          "base_uri": "https://localhost:8080/",
          "height": 405
        },
        "id": "sqS19zklD3QJ",
        "outputId": "d5aed4cc-ae27-47f1-b2b4-97c074a2e0f3"
      },
      "execution_count": null,
      "outputs": [
        {
          "output_type": "execute_result",
          "data": {
            "text/plain": [
              "Text(69.0, 0.5, 'Predicción')"
            ]
          },
          "metadata": {},
          "execution_count": 39
        },
        {
          "output_type": "display_data",
          "data": {
            "text/plain": [
              "<Figure size 720x432 with 2 Axes>"
            ],
            "image/png": "[encoded data removed]"
          },
          "metadata": {
            "needs_background": "light"
          }
        }
      ]
    }
  ]
}